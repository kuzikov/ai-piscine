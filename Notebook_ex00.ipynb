{
 "cells": [
  {
   "cell_type": "markdown",
   "id": "05921430-a4d8-4860-abf6-f15bc8dba172",
   "metadata": {},
   "source": [
    "# H1 TITLE\n",
    "## H2 TITLE"
   ]
  },
  {
   "cell_type": "code",
   "execution_count": 9,
   "id": "ae101cc6-5da0-4c84-a6e7-9b80fcb76a7c",
   "metadata": {},
   "outputs": [
    {
     "name": "stdout",
     "output_type": "stream",
     "text": [
      "Buy the dip ?\n"
     ]
    }
   ],
   "source": [
    "print(\"Buy the dip ?\")"
   ]
  },
  {
   "cell_type": "markdown",
   "id": "fb8d97c9-eabc-4169-befd-f5821b89900d",
   "metadata": {},
   "source": [
    "### Exercise 1: NumPy array."
   ]
  },
  {
   "cell_type": "code",
   "execution_count": 8,
   "id": "b1a3dfaa-3660-45aa-83c5-51759e6ff9f0",
   "metadata": {},
   "outputs": [
    {
     "name": "stdout",
     "output_type": "stream",
     "text": [
      "<class 'int'>\n",
      "<class 'float'>\n",
      "<class 'str'>\n",
      "<class 'dict'>\n",
      "<class 'list'>\n",
      "<class 'tuple'>\n",
      "<class 'set'>\n",
      "<class 'bool'>\n"
     ]
    }
   ],
   "source": [
    "import numpy as np\n",
    "\n",
    "numpy_array = np.array([42, 3.1415926,'hello, world!',{'slava':'ukraine'},['putin', 'huylo'], ('ahmad','tea'),{'my', 'horse' , 'is', 'amazing'}, True], dtype='object')\n",
    "\n",
    "for i in numpy_array:\n",
    "    print(type(i))"
   ]
  }
 ],
 "metadata": {
  "kernelspec": {
   "display_name": "Python 3 (ipykernel)",
   "language": "python",
   "name": "python3"
  },
  "language_info": {
   "codemirror_mode": {
    "name": "ipython",
    "version": 3
   },
   "file_extension": ".py",
   "mimetype": "text/x-python",
   "name": "python",
   "nbconvert_exporter": "python",
   "pygments_lexer": "ipython3",
   "version": "3.11.4"
  }
 },
 "nbformat": 4,
 "nbformat_minor": 5
}
